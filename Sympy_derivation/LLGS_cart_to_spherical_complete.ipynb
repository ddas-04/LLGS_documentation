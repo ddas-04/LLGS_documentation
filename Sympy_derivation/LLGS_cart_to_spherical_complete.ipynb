{
 "cells": [
  {
   "cell_type": "code",
   "execution_count": 1,
   "metadata": {},
   "outputs": [
    {
     "name": "stdout",
     "output_type": "stream",
     "text": [
      "Once deleted, variables cannot be recovered. Proceed (y/[n])? y\n"
     ]
    }
   ],
   "source": [
    "%reset"
   ]
  },
  {
   "cell_type": "code",
   "execution_count": 2,
   "metadata": {},
   "outputs": [],
   "source": [
    "from sympy import *"
   ]
  },
  {
   "cell_type": "markdown",
   "metadata": {},
   "source": [
    "#### assigning symbol for $H_{eff}$"
   ]
  },
  {
   "cell_type": "code",
   "execution_count": 9,
   "metadata": {},
   "outputs": [
    {
     "data": {
      "text/latex": [
       "$\\displaystyle \\left[\\begin{matrix}H_{x}\\\\H_{y}\\\\H_{z}\\end{matrix}\\right]$"
      ],
      "text/plain": [
       "Matrix([\n",
       "[H_x],\n",
       "[H_y],\n",
       "[H_z]])"
      ]
     },
     "execution_count": 9,
     "metadata": {},
     "output_type": "execute_result"
    }
   ],
   "source": [
    "Hx, Hy, Hz = symbols('H_x H_y H_z')\n",
    "H=Matrix([[Hx],[Hy],[Hz]])\n",
    "H"
   ]
  },
  {
   "cell_type": "markdown",
   "metadata": {},
   "source": [
    "#### denoting time symbol"
   ]
  },
  {
   "cell_type": "code",
   "execution_count": 4,
   "metadata": {},
   "outputs": [],
   "source": [
    "t = symbols('t')"
   ]
  },
  {
   "cell_type": "markdown",
   "metadata": {},
   "source": [
    "#### assiging other required symbols"
   ]
  },
  {
   "cell_type": "code",
   "execution_count": 20,
   "metadata": {},
   "outputs": [],
   "source": [
    "alpha, i = symbols('alpha i')"
   ]
  },
  {
   "cell_type": "markdown",
   "metadata": {},
   "source": [
    "#### asigning spherical polar coordinates $\\theta$ and $\\phi$"
   ]
  },
  {
   "cell_type": "code",
   "execution_count": 5,
   "metadata": {},
   "outputs": [],
   "source": [
    "theta=Function('theta')(t)\n",
    "phi=Function('phi')(t)"
   ]
  },
  {
   "cell_type": "markdown",
   "metadata": {},
   "source": [
    "#### Writing spherical polar unit vectors"
   ]
  },
  {
   "cell_type": "code",
   "execution_count": 6,
   "metadata": {},
   "outputs": [
    {
     "data": {
      "text/latex": [
       "$\\displaystyle \\left[\\begin{matrix}\\cos{\\left(\\phi{\\left(t \\right)} \\right)} \\cos{\\left(\\theta{\\left(t \\right)} \\right)}\\\\\\sin{\\left(\\phi{\\left(t \\right)} \\right)} \\cos{\\left(\\theta{\\left(t \\right)} \\right)}\\\\- \\sin{\\left(\\theta{\\left(t \\right)} \\right)}\\end{matrix}\\right]$"
      ],
      "text/plain": [
       "Matrix([\n",
       "[cos(phi(t))*cos(theta(t))],\n",
       "[sin(phi(t))*cos(theta(t))],\n",
       "[           -sin(theta(t))]])"
      ]
     },
     "execution_count": 6,
     "metadata": {},
     "output_type": "execute_result"
    }
   ],
   "source": [
    "theta_cap=Matrix([[cos(theta)*cos(phi)],[cos(theta)*sin(phi)],[-sin(theta)]])\n",
    "theta_cap"
   ]
  },
  {
   "cell_type": "code",
   "execution_count": 7,
   "metadata": {},
   "outputs": [
    {
     "data": {
      "text/latex": [
       "$\\displaystyle \\left[\\begin{matrix}- \\sin{\\left(\\phi{\\left(t \\right)} \\right)}\\\\\\cos{\\left(\\phi{\\left(t \\right)} \\right)}\\\\0\\end{matrix}\\right]$"
      ],
      "text/plain": [
       "Matrix([\n",
       "[-sin(phi(t))],\n",
       "[ cos(phi(t))],\n",
       "[           0]])"
      ]
     },
     "execution_count": 7,
     "metadata": {},
     "output_type": "execute_result"
    }
   ],
   "source": [
    "phi_cap=Matrix([[-sin(phi)],[cos(phi)],[0]])\n",
    "phi_cap"
   ]
  },
  {
   "cell_type": "markdown",
   "metadata": {},
   "source": [
    "#### Writing $\\hat{m}$ with spherical polar coordinate in cartesian basis"
   ]
  },
  {
   "cell_type": "code",
   "execution_count": 8,
   "metadata": {},
   "outputs": [
    {
     "data": {
      "text/latex": [
       "$\\displaystyle \\left[\\begin{matrix}\\sin{\\left(\\theta{\\left(t \\right)} \\right)} \\cos{\\left(\\phi{\\left(t \\right)} \\right)}\\\\\\sin{\\left(\\phi{\\left(t \\right)} \\right)} \\sin{\\left(\\theta{\\left(t \\right)} \\right)}\\\\\\cos{\\left(\\theta{\\left(t \\right)} \\right)}\\end{matrix}\\right]$"
      ],
      "text/plain": [
       "Matrix([\n",
       "[sin(theta(t))*cos(phi(t))],\n",
       "[sin(phi(t))*sin(theta(t))],\n",
       "[            cos(theta(t))]])"
      ]
     },
     "execution_count": 8,
     "metadata": {},
     "output_type": "execute_result"
    }
   ],
   "source": [
    "m=Matrix([[sin(theta)*cos(phi)],[sin(theta)*sin(phi)],[cos(theta)]])\n",
    "m"
   ]
  },
  {
   "cell_type": "markdown",
   "metadata": {},
   "source": [
    "#### Writing spin current vector "
   ]
  },
  {
   "cell_type": "code",
   "execution_count": 16,
   "metadata": {},
   "outputs": [],
   "source": [
    "mpx,mpy,mpz=symbols('m_{p_x} m_{p_y} m_{p_z}')"
   ]
  },
  {
   "cell_type": "code",
   "execution_count": 17,
   "metadata": {},
   "outputs": [
    {
     "data": {
      "text/latex": [
       "$\\displaystyle \\left[\\begin{matrix}m_{p_x}\\\\m_{p_y}\\\\m_{p_z}\\end{matrix}\\right]$"
      ],
      "text/plain": [
       "Matrix([\n",
       "[m_{p_x}],\n",
       "[m_{p_y}],\n",
       "[m_{p_z}]])"
      ]
     },
     "execution_count": 17,
     "metadata": {},
     "output_type": "execute_result"
    }
   ],
   "source": [
    "mp=Matrix([[mpx],[mpy],[mpz]])\n",
    "mp"
   ]
  },
  {
   "cell_type": "markdown",
   "metadata": {},
   "source": [
    "#### Writing precession term"
   ]
  },
  {
   "cell_type": "code",
   "execution_count": 18,
   "metadata": {},
   "outputs": [
    {
     "data": {
      "text/latex": [
       "$\\displaystyle \\left[\\begin{matrix}H_{y} \\cos{\\left(\\theta{\\left(t \\right)} \\right)} - H_{z} \\sin{\\left(\\phi{\\left(t \\right)} \\right)} \\sin{\\left(\\theta{\\left(t \\right)} \\right)}\\\\- H_{x} \\cos{\\left(\\theta{\\left(t \\right)} \\right)} + H_{z} \\sin{\\left(\\theta{\\left(t \\right)} \\right)} \\cos{\\left(\\phi{\\left(t \\right)} \\right)}\\\\H_{x} \\sin{\\left(\\phi{\\left(t \\right)} \\right)} \\sin{\\left(\\theta{\\left(t \\right)} \\right)} - H_{y} \\sin{\\left(\\theta{\\left(t \\right)} \\right)} \\cos{\\left(\\phi{\\left(t \\right)} \\right)}\\end{matrix}\\right]$"
      ],
      "text/plain": [
       "Matrix([\n",
       "[            H_y*cos(theta(t)) - H_z*sin(phi(t))*sin(theta(t))],\n",
       "[           -H_x*cos(theta(t)) + H_z*sin(theta(t))*cos(phi(t))],\n",
       "[H_x*sin(phi(t))*sin(theta(t)) - H_y*sin(theta(t))*cos(phi(t))]])"
      ]
     },
     "execution_count": 18,
     "metadata": {},
     "output_type": "execute_result"
    }
   ],
   "source": [
    "precession=-m.cross(H)\n",
    "precession"
   ]
  },
  {
   "cell_type": "markdown",
   "metadata": {},
   "source": [
    "#### Writing damping term"
   ]
  },
  {
   "cell_type": "code",
   "execution_count": 22,
   "metadata": {},
   "outputs": [
    {
     "data": {
      "text/latex": [
       "$\\displaystyle \\left[\\begin{matrix}- \\alpha \\left(- \\left(H_{x} \\cos{\\left(\\theta{\\left(t \\right)} \\right)} - H_{z} \\sin{\\left(\\theta{\\left(t \\right)} \\right)} \\cos{\\left(\\phi{\\left(t \\right)} \\right)}\\right) \\cos{\\left(\\theta{\\left(t \\right)} \\right)} + \\left(- H_{x} \\sin{\\left(\\phi{\\left(t \\right)} \\right)} \\sin{\\left(\\theta{\\left(t \\right)} \\right)} + H_{y} \\sin{\\left(\\theta{\\left(t \\right)} \\right)} \\cos{\\left(\\phi{\\left(t \\right)} \\right)}\\right) \\sin{\\left(\\phi{\\left(t \\right)} \\right)} \\sin{\\left(\\theta{\\left(t \\right)} \\right)}\\right)\\\\- \\alpha \\left(\\left(- H_{y} \\cos{\\left(\\theta{\\left(t \\right)} \\right)} + H_{z} \\sin{\\left(\\phi{\\left(t \\right)} \\right)} \\sin{\\left(\\theta{\\left(t \\right)} \\right)}\\right) \\cos{\\left(\\theta{\\left(t \\right)} \\right)} - \\left(- H_{x} \\sin{\\left(\\phi{\\left(t \\right)} \\right)} \\sin{\\left(\\theta{\\left(t \\right)} \\right)} + H_{y} \\sin{\\left(\\theta{\\left(t \\right)} \\right)} \\cos{\\left(\\phi{\\left(t \\right)} \\right)}\\right) \\sin{\\left(\\theta{\\left(t \\right)} \\right)} \\cos{\\left(\\phi{\\left(t \\right)} \\right)}\\right)\\\\- \\alpha \\left(\\left(H_{x} \\cos{\\left(\\theta{\\left(t \\right)} \\right)} - H_{z} \\sin{\\left(\\theta{\\left(t \\right)} \\right)} \\cos{\\left(\\phi{\\left(t \\right)} \\right)}\\right) \\sin{\\left(\\theta{\\left(t \\right)} \\right)} \\cos{\\left(\\phi{\\left(t \\right)} \\right)} - \\left(- H_{y} \\cos{\\left(\\theta{\\left(t \\right)} \\right)} + H_{z} \\sin{\\left(\\phi{\\left(t \\right)} \\right)} \\sin{\\left(\\theta{\\left(t \\right)} \\right)}\\right) \\sin{\\left(\\phi{\\left(t \\right)} \\right)} \\sin{\\left(\\theta{\\left(t \\right)} \\right)}\\right)\\end{matrix}\\right]$"
      ],
      "text/plain": [
       "Matrix([\n",
       "[-alpha*(-(H_x*cos(theta(t)) - H_z*sin(theta(t))*cos(phi(t)))*cos(theta(t)) + (-H_x*sin(phi(t))*sin(theta(t)) + H_y*sin(theta(t))*cos(phi(t)))*sin(phi(t))*sin(theta(t)))],\n",
       "[-alpha*((-H_y*cos(theta(t)) + H_z*sin(phi(t))*sin(theta(t)))*cos(theta(t)) - (-H_x*sin(phi(t))*sin(theta(t)) + H_y*sin(theta(t))*cos(phi(t)))*sin(theta(t))*cos(phi(t)))],\n",
       "[ -alpha*((H_x*cos(theta(t)) - H_z*sin(theta(t))*cos(phi(t)))*sin(theta(t))*cos(phi(t)) - (-H_y*cos(theta(t)) + H_z*sin(phi(t))*sin(theta(t)))*sin(phi(t))*sin(theta(t)))]])"
      ]
     },
     "execution_count": 22,
     "metadata": {},
     "output_type": "execute_result"
    }
   ],
   "source": [
    "damping=-alpha*(m.cross(m.cross(H)))\n",
    "damping"
   ]
  },
  {
   "cell_type": "markdown",
   "metadata": {},
   "source": [
    "#### Writing Damping like STT term "
   ]
  },
  {
   "cell_type": "code",
   "execution_count": 24,
   "metadata": {},
   "outputs": [
    {
     "data": {
      "text/latex": [
       "$\\displaystyle \\left[\\begin{matrix}- i \\left(- \\left(m_{p_x} \\cos{\\left(\\theta{\\left(t \\right)} \\right)} - m_{p_z} \\sin{\\left(\\theta{\\left(t \\right)} \\right)} \\cos{\\left(\\phi{\\left(t \\right)} \\right)}\\right) \\cos{\\left(\\theta{\\left(t \\right)} \\right)} + \\left(- m_{p_x} \\sin{\\left(\\phi{\\left(t \\right)} \\right)} \\sin{\\left(\\theta{\\left(t \\right)} \\right)} + m_{p_y} \\sin{\\left(\\theta{\\left(t \\right)} \\right)} \\cos{\\left(\\phi{\\left(t \\right)} \\right)}\\right) \\sin{\\left(\\phi{\\left(t \\right)} \\right)} \\sin{\\left(\\theta{\\left(t \\right)} \\right)}\\right)\\\\- i \\left(\\left(- m_{p_y} \\cos{\\left(\\theta{\\left(t \\right)} \\right)} + m_{p_z} \\sin{\\left(\\phi{\\left(t \\right)} \\right)} \\sin{\\left(\\theta{\\left(t \\right)} \\right)}\\right) \\cos{\\left(\\theta{\\left(t \\right)} \\right)} - \\left(- m_{p_x} \\sin{\\left(\\phi{\\left(t \\right)} \\right)} \\sin{\\left(\\theta{\\left(t \\right)} \\right)} + m_{p_y} \\sin{\\left(\\theta{\\left(t \\right)} \\right)} \\cos{\\left(\\phi{\\left(t \\right)} \\right)}\\right) \\sin{\\left(\\theta{\\left(t \\right)} \\right)} \\cos{\\left(\\phi{\\left(t \\right)} \\right)}\\right)\\\\- i \\left(\\left(m_{p_x} \\cos{\\left(\\theta{\\left(t \\right)} \\right)} - m_{p_z} \\sin{\\left(\\theta{\\left(t \\right)} \\right)} \\cos{\\left(\\phi{\\left(t \\right)} \\right)}\\right) \\sin{\\left(\\theta{\\left(t \\right)} \\right)} \\cos{\\left(\\phi{\\left(t \\right)} \\right)} - \\left(- m_{p_y} \\cos{\\left(\\theta{\\left(t \\right)} \\right)} + m_{p_z} \\sin{\\left(\\phi{\\left(t \\right)} \\right)} \\sin{\\left(\\theta{\\left(t \\right)} \\right)}\\right) \\sin{\\left(\\phi{\\left(t \\right)} \\right)} \\sin{\\left(\\theta{\\left(t \\right)} \\right)}\\right)\\end{matrix}\\right]$"
      ],
      "text/plain": [
       "Matrix([\n",
       "[-i*(-(m_{p_x}*cos(theta(t)) - m_{p_z}*sin(theta(t))*cos(phi(t)))*cos(theta(t)) + (-m_{p_x}*sin(phi(t))*sin(theta(t)) + m_{p_y}*sin(theta(t))*cos(phi(t)))*sin(phi(t))*sin(theta(t)))],\n",
       "[-i*((-m_{p_y}*cos(theta(t)) + m_{p_z}*sin(phi(t))*sin(theta(t)))*cos(theta(t)) - (-m_{p_x}*sin(phi(t))*sin(theta(t)) + m_{p_y}*sin(theta(t))*cos(phi(t)))*sin(theta(t))*cos(phi(t)))],\n",
       "[ -i*((m_{p_x}*cos(theta(t)) - m_{p_z}*sin(theta(t))*cos(phi(t)))*sin(theta(t))*cos(phi(t)) - (-m_{p_y}*cos(theta(t)) + m_{p_z}*sin(phi(t))*sin(theta(t)))*sin(phi(t))*sin(theta(t)))]])"
      ]
     },
     "execution_count": 24,
     "metadata": {},
     "output_type": "execute_result"
    }
   ],
   "source": [
    "DL_stt=-i*(m.cross(m.cross(mp)))\n",
    "DL_stt"
   ]
  },
  {
   "cell_type": "markdown",
   "metadata": {},
   "source": [
    "#### Writing Field like STT term"
   ]
  },
  {
   "cell_type": "code",
   "execution_count": 26,
   "metadata": {},
   "outputs": [
    {
     "data": {
      "text/latex": [
       "$\\displaystyle \\left[\\begin{matrix}\\alpha i \\left(- m_{p_y} \\cos{\\left(\\theta{\\left(t \\right)} \\right)} + m_{p_z} \\sin{\\left(\\phi{\\left(t \\right)} \\right)} \\sin{\\left(\\theta{\\left(t \\right)} \\right)}\\right)\\\\\\alpha i \\left(m_{p_x} \\cos{\\left(\\theta{\\left(t \\right)} \\right)} - m_{p_z} \\sin{\\left(\\theta{\\left(t \\right)} \\right)} \\cos{\\left(\\phi{\\left(t \\right)} \\right)}\\right)\\\\\\alpha i \\left(- m_{p_x} \\sin{\\left(\\phi{\\left(t \\right)} \\right)} \\sin{\\left(\\theta{\\left(t \\right)} \\right)} + m_{p_y} \\sin{\\left(\\theta{\\left(t \\right)} \\right)} \\cos{\\left(\\phi{\\left(t \\right)} \\right)}\\right)\\end{matrix}\\right]$"
      ],
      "text/plain": [
       "Matrix([\n",
       "[            alpha*i*(-m_{p_y}*cos(theta(t)) + m_{p_z}*sin(phi(t))*sin(theta(t)))],\n",
       "[             alpha*i*(m_{p_x}*cos(theta(t)) - m_{p_z}*sin(theta(t))*cos(phi(t)))],\n",
       "[alpha*i*(-m_{p_x}*sin(phi(t))*sin(theta(t)) + m_{p_y}*sin(theta(t))*cos(phi(t)))]])"
      ]
     },
     "execution_count": 26,
     "metadata": {},
     "output_type": "execute_result"
    }
   ],
   "source": [
    "FL_stt=alpha*i*m.cross(mp)\n",
    "FL_stt"
   ]
  },
  {
   "cell_type": "markdown",
   "metadata": {},
   "source": [
    "#### RHS of $\\frac{d\\hat{m}}{dt}$ in cartesian basis"
   ]
  },
  {
   "cell_type": "code",
   "execution_count": 29,
   "metadata": {},
   "outputs": [
    {
     "data": {
      "text/latex": [
       "$\\displaystyle \\left[\\begin{matrix}H_{y} \\cos{\\left(\\theta{\\left(t \\right)} \\right)} - H_{z} \\sin{\\left(\\phi{\\left(t \\right)} \\right)} \\sin{\\left(\\theta{\\left(t \\right)} \\right)} + \\alpha i \\left(- m_{p_y} \\cos{\\left(\\theta{\\left(t \\right)} \\right)} + m_{p_z} \\sin{\\left(\\phi{\\left(t \\right)} \\right)} \\sin{\\left(\\theta{\\left(t \\right)} \\right)}\\right) - \\alpha \\left(- \\left(H_{x} \\cos{\\left(\\theta{\\left(t \\right)} \\right)} - H_{z} \\sin{\\left(\\theta{\\left(t \\right)} \\right)} \\cos{\\left(\\phi{\\left(t \\right)} \\right)}\\right) \\cos{\\left(\\theta{\\left(t \\right)} \\right)} + \\left(- H_{x} \\sin{\\left(\\phi{\\left(t \\right)} \\right)} \\sin{\\left(\\theta{\\left(t \\right)} \\right)} + H_{y} \\sin{\\left(\\theta{\\left(t \\right)} \\right)} \\cos{\\left(\\phi{\\left(t \\right)} \\right)}\\right) \\sin{\\left(\\phi{\\left(t \\right)} \\right)} \\sin{\\left(\\theta{\\left(t \\right)} \\right)}\\right) - i \\left(- \\left(m_{p_x} \\cos{\\left(\\theta{\\left(t \\right)} \\right)} - m_{p_z} \\sin{\\left(\\theta{\\left(t \\right)} \\right)} \\cos{\\left(\\phi{\\left(t \\right)} \\right)}\\right) \\cos{\\left(\\theta{\\left(t \\right)} \\right)} + \\left(- m_{p_x} \\sin{\\left(\\phi{\\left(t \\right)} \\right)} \\sin{\\left(\\theta{\\left(t \\right)} \\right)} + m_{p_y} \\sin{\\left(\\theta{\\left(t \\right)} \\right)} \\cos{\\left(\\phi{\\left(t \\right)} \\right)}\\right) \\sin{\\left(\\phi{\\left(t \\right)} \\right)} \\sin{\\left(\\theta{\\left(t \\right)} \\right)}\\right)\\\\- H_{x} \\cos{\\left(\\theta{\\left(t \\right)} \\right)} + H_{z} \\sin{\\left(\\theta{\\left(t \\right)} \\right)} \\cos{\\left(\\phi{\\left(t \\right)} \\right)} + \\alpha i \\left(m_{p_x} \\cos{\\left(\\theta{\\left(t \\right)} \\right)} - m_{p_z} \\sin{\\left(\\theta{\\left(t \\right)} \\right)} \\cos{\\left(\\phi{\\left(t \\right)} \\right)}\\right) - \\alpha \\left(\\left(- H_{y} \\cos{\\left(\\theta{\\left(t \\right)} \\right)} + H_{z} \\sin{\\left(\\phi{\\left(t \\right)} \\right)} \\sin{\\left(\\theta{\\left(t \\right)} \\right)}\\right) \\cos{\\left(\\theta{\\left(t \\right)} \\right)} - \\left(- H_{x} \\sin{\\left(\\phi{\\left(t \\right)} \\right)} \\sin{\\left(\\theta{\\left(t \\right)} \\right)} + H_{y} \\sin{\\left(\\theta{\\left(t \\right)} \\right)} \\cos{\\left(\\phi{\\left(t \\right)} \\right)}\\right) \\sin{\\left(\\theta{\\left(t \\right)} \\right)} \\cos{\\left(\\phi{\\left(t \\right)} \\right)}\\right) - i \\left(\\left(- m_{p_y} \\cos{\\left(\\theta{\\left(t \\right)} \\right)} + m_{p_z} \\sin{\\left(\\phi{\\left(t \\right)} \\right)} \\sin{\\left(\\theta{\\left(t \\right)} \\right)}\\right) \\cos{\\left(\\theta{\\left(t \\right)} \\right)} - \\left(- m_{p_x} \\sin{\\left(\\phi{\\left(t \\right)} \\right)} \\sin{\\left(\\theta{\\left(t \\right)} \\right)} + m_{p_y} \\sin{\\left(\\theta{\\left(t \\right)} \\right)} \\cos{\\left(\\phi{\\left(t \\right)} \\right)}\\right) \\sin{\\left(\\theta{\\left(t \\right)} \\right)} \\cos{\\left(\\phi{\\left(t \\right)} \\right)}\\right)\\\\H_{x} \\sin{\\left(\\phi{\\left(t \\right)} \\right)} \\sin{\\left(\\theta{\\left(t \\right)} \\right)} - H_{y} \\sin{\\left(\\theta{\\left(t \\right)} \\right)} \\cos{\\left(\\phi{\\left(t \\right)} \\right)} + \\alpha i \\left(- m_{p_x} \\sin{\\left(\\phi{\\left(t \\right)} \\right)} \\sin{\\left(\\theta{\\left(t \\right)} \\right)} + m_{p_y} \\sin{\\left(\\theta{\\left(t \\right)} \\right)} \\cos{\\left(\\phi{\\left(t \\right)} \\right)}\\right) - \\alpha \\left(\\left(H_{x} \\cos{\\left(\\theta{\\left(t \\right)} \\right)} - H_{z} \\sin{\\left(\\theta{\\left(t \\right)} \\right)} \\cos{\\left(\\phi{\\left(t \\right)} \\right)}\\right) \\sin{\\left(\\theta{\\left(t \\right)} \\right)} \\cos{\\left(\\phi{\\left(t \\right)} \\right)} - \\left(- H_{y} \\cos{\\left(\\theta{\\left(t \\right)} \\right)} + H_{z} \\sin{\\left(\\phi{\\left(t \\right)} \\right)} \\sin{\\left(\\theta{\\left(t \\right)} \\right)}\\right) \\sin{\\left(\\phi{\\left(t \\right)} \\right)} \\sin{\\left(\\theta{\\left(t \\right)} \\right)}\\right) - i \\left(\\left(m_{p_x} \\cos{\\left(\\theta{\\left(t \\right)} \\right)} - m_{p_z} \\sin{\\left(\\theta{\\left(t \\right)} \\right)} \\cos{\\left(\\phi{\\left(t \\right)} \\right)}\\right) \\sin{\\left(\\theta{\\left(t \\right)} \\right)} \\cos{\\left(\\phi{\\left(t \\right)} \\right)} - \\left(- m_{p_y} \\cos{\\left(\\theta{\\left(t \\right)} \\right)} + m_{p_z} \\sin{\\left(\\phi{\\left(t \\right)} \\right)} \\sin{\\left(\\theta{\\left(t \\right)} \\right)}\\right) \\sin{\\left(\\phi{\\left(t \\right)} \\right)} \\sin{\\left(\\theta{\\left(t \\right)} \\right)}\\right)\\end{matrix}\\right]$"
      ],
      "text/plain": [
       "Matrix([\n",
       "[                      H_y*cos(theta(t)) - H_z*sin(phi(t))*sin(theta(t)) + alpha*i*(-m_{p_y}*cos(theta(t)) + m_{p_z}*sin(phi(t))*sin(theta(t))) - alpha*(-(H_x*cos(theta(t)) - H_z*sin(theta(t))*cos(phi(t)))*cos(theta(t)) + (-H_x*sin(phi(t))*sin(theta(t)) + H_y*sin(theta(t))*cos(phi(t)))*sin(phi(t))*sin(theta(t))) - i*(-(m_{p_x}*cos(theta(t)) - m_{p_z}*sin(theta(t))*cos(phi(t)))*cos(theta(t)) + (-m_{p_x}*sin(phi(t))*sin(theta(t)) + m_{p_y}*sin(theta(t))*cos(phi(t)))*sin(phi(t))*sin(theta(t)))],\n",
       "[                      -H_x*cos(theta(t)) + H_z*sin(theta(t))*cos(phi(t)) + alpha*i*(m_{p_x}*cos(theta(t)) - m_{p_z}*sin(theta(t))*cos(phi(t))) - alpha*((-H_y*cos(theta(t)) + H_z*sin(phi(t))*sin(theta(t)))*cos(theta(t)) - (-H_x*sin(phi(t))*sin(theta(t)) + H_y*sin(theta(t))*cos(phi(t)))*sin(theta(t))*cos(phi(t))) - i*((-m_{p_y}*cos(theta(t)) + m_{p_z}*sin(phi(t))*sin(theta(t)))*cos(theta(t)) - (-m_{p_x}*sin(phi(t))*sin(theta(t)) + m_{p_y}*sin(theta(t))*cos(phi(t)))*sin(theta(t))*cos(phi(t)))],\n",
       "[H_x*sin(phi(t))*sin(theta(t)) - H_y*sin(theta(t))*cos(phi(t)) + alpha*i*(-m_{p_x}*sin(phi(t))*sin(theta(t)) + m_{p_y}*sin(theta(t))*cos(phi(t))) - alpha*((H_x*cos(theta(t)) - H_z*sin(theta(t))*cos(phi(t)))*sin(theta(t))*cos(phi(t)) - (-H_y*cos(theta(t)) + H_z*sin(phi(t))*sin(theta(t)))*sin(phi(t))*sin(theta(t))) - i*((m_{p_x}*cos(theta(t)) - m_{p_z}*sin(theta(t))*cos(phi(t)))*sin(theta(t))*cos(phi(t)) - (-m_{p_y}*cos(theta(t)) + m_{p_z}*sin(phi(t))*sin(theta(t)))*sin(phi(t))*sin(theta(t)))]])"
      ]
     },
     "execution_count": 29,
     "metadata": {},
     "output_type": "execute_result"
    }
   ],
   "source": [
    "dmdt_cart_RHS=(precession+damping+DL_stt+FL_stt)\n",
    "dmdt_cart_RHS"
   ]
  },
  {
   "cell_type": "markdown",
   "metadata": {},
   "source": [
    "#### LHS of $\\frac{d\\hat{m}}{dt}$ in cartesian basis"
   ]
  },
  {
   "cell_type": "code",
   "execution_count": 31,
   "metadata": {},
   "outputs": [
    {
     "data": {
      "text/latex": [
       "$\\displaystyle \\left[\\begin{matrix}- \\sin{\\left(\\phi{\\left(t \\right)} \\right)} \\sin{\\left(\\theta{\\left(t \\right)} \\right)} \\frac{d}{d t} \\phi{\\left(t \\right)} + \\cos{\\left(\\phi{\\left(t \\right)} \\right)} \\cos{\\left(\\theta{\\left(t \\right)} \\right)} \\frac{d}{d t} \\theta{\\left(t \\right)}\\\\\\sin{\\left(\\phi{\\left(t \\right)} \\right)} \\cos{\\left(\\theta{\\left(t \\right)} \\right)} \\frac{d}{d t} \\theta{\\left(t \\right)} + \\sin{\\left(\\theta{\\left(t \\right)} \\right)} \\cos{\\left(\\phi{\\left(t \\right)} \\right)} \\frac{d}{d t} \\phi{\\left(t \\right)}\\\\- \\sin{\\left(\\theta{\\left(t \\right)} \\right)} \\frac{d}{d t} \\theta{\\left(t \\right)}\\end{matrix}\\right]$"
      ],
      "text/plain": [
       "Matrix([\n",
       "[-sin(phi(t))*sin(theta(t))*Derivative(phi(t), t) + cos(phi(t))*cos(theta(t))*Derivative(theta(t), t)],\n",
       "[ sin(phi(t))*cos(theta(t))*Derivative(theta(t), t) + sin(theta(t))*cos(phi(t))*Derivative(phi(t), t)],\n",
       "[                                                              -sin(theta(t))*Derivative(theta(t), t)]])"
      ]
     },
     "execution_count": 31,
     "metadata": {},
     "output_type": "execute_result"
    }
   ],
   "source": [
    "dmdt_cart_LHS=diff(m,t)\n",
    "dmdt_cart_LHS"
   ]
  },
  {
   "cell_type": "markdown",
   "metadata": {},
   "source": [
    "#### Calculating only $\\frac{d\\theta}{dt}$ term"
   ]
  },
  {
   "cell_type": "code",
   "execution_count": 33,
   "metadata": {},
   "outputs": [
    {
     "data": {
      "text/latex": [
       "$\\displaystyle - H_{x} \\sin{\\left(\\phi{\\left(t \\right)} \\right)} + H_{y} \\cos{\\left(\\phi{\\left(t \\right)} \\right)} + \\alpha i \\left(m_{p_x} \\sin{\\left(\\phi{\\left(t \\right)} \\right)} - m_{p_y} \\cos{\\left(\\phi{\\left(t \\right)} \\right)}\\right) + \\alpha \\left(H_{x} \\cos{\\left(\\phi{\\left(t \\right)} \\right)} \\cos{\\left(\\theta{\\left(t \\right)} \\right)} + H_{y} \\sin{\\left(\\phi{\\left(t \\right)} \\right)} \\cos{\\left(\\theta{\\left(t \\right)} \\right)} - H_{z} \\sin{\\left(\\theta{\\left(t \\right)} \\right)}\\right) + i \\left(m_{p_x} \\cos{\\left(\\phi{\\left(t \\right)} \\right)} \\cos{\\left(\\theta{\\left(t \\right)} \\right)} + m_{p_y} \\sin{\\left(\\phi{\\left(t \\right)} \\right)} \\cos{\\left(\\theta{\\left(t \\right)} \\right)} - m_{p_z} \\sin{\\left(\\theta{\\left(t \\right)} \\right)}\\right)$"
      ],
      "text/plain": [
       "-H_x*sin(phi(t)) + H_y*cos(phi(t)) + alpha*i*(m_{p_x}*sin(phi(t)) - m_{p_y}*cos(phi(t))) + alpha*(H_x*cos(phi(t))*cos(theta(t)) + H_y*sin(phi(t))*cos(theta(t)) - H_z*sin(theta(t))) + i*(m_{p_x}*cos(phi(t))*cos(theta(t)) + m_{p_y}*sin(phi(t))*cos(theta(t)) - m_{p_z}*sin(theta(t)))"
      ]
     },
     "execution_count": 33,
     "metadata": {},
     "output_type": "execute_result"
    }
   ],
   "source": [
    "d_theta_by_dt=simplify(dmdt_cart_RHS[2]/(-sin(theta)))\n",
    "d_theta_by_dt"
   ]
  },
  {
   "cell_type": "markdown",
   "metadata": {},
   "source": [
    "#### Calculating $\\frac{d\\phi}{dt}$ term"
   ]
  },
  {
   "cell_type": "code",
   "execution_count": 37,
   "metadata": {},
   "outputs": [
    {
     "data": {
      "text/latex": [
       "$\\displaystyle \\frac{- H_{x} \\alpha \\sin{\\left(\\phi{\\left(t \\right)} \\right)} - H_{x} \\cos{\\left(\\phi{\\left(t \\right)} \\right)} \\cos{\\left(\\theta{\\left(t \\right)} \\right)} + H_{y} \\alpha \\cos{\\left(\\phi{\\left(t \\right)} \\right)} - H_{y} \\sin{\\left(\\phi{\\left(t \\right)} \\right)} \\cos{\\left(\\theta{\\left(t \\right)} \\right)} + H_{z} \\sin{\\left(\\theta{\\left(t \\right)} \\right)} + \\alpha i m_{p_x} \\cos{\\left(\\phi{\\left(t \\right)} \\right)} \\cos{\\left(\\theta{\\left(t \\right)} \\right)} + \\alpha i m_{p_y} \\sin{\\left(\\phi{\\left(t \\right)} \\right)} \\cos{\\left(\\theta{\\left(t \\right)} \\right)} - \\alpha i m_{p_z} \\sin{\\left(\\theta{\\left(t \\right)} \\right)} - i m_{p_x} \\sin{\\left(\\phi{\\left(t \\right)} \\right)} + i m_{p_y} \\cos{\\left(\\phi{\\left(t \\right)} \\right)}}{\\sin{\\left(\\theta{\\left(t \\right)} \\right)}}$"
      ],
      "text/plain": [
       "(-H_x*alpha*sin(phi(t)) - H_x*cos(phi(t))*cos(theta(t)) + H_y*alpha*cos(phi(t)) - H_y*sin(phi(t))*cos(theta(t)) + H_z*sin(theta(t)) + alpha*i*m_{p_x}*cos(phi(t))*cos(theta(t)) + alpha*i*m_{p_y}*sin(phi(t))*cos(theta(t)) - alpha*i*m_{p_z}*sin(theta(t)) - i*m_{p_x}*sin(phi(t)) + i*m_{p_y}*cos(phi(t)))/sin(theta(t))"
      ]
     },
     "execution_count": 37,
     "metadata": {},
     "output_type": "execute_result"
    }
   ],
   "source": [
    "d_phi_by_dt=simplify((dmdt_cart_RHS[0]-cos(theta)*cos(phi)*d_theta_by_dt)/(-sin(phi)*sin(theta)))\n",
    "d_phi_by_dt"
   ]
  },
  {
   "cell_type": "markdown",
   "metadata": {},
   "source": [
    "#### For convention, like other papers, writing $sin\\theta \\frac{d\\phi}{dt}$"
   ]
  },
  {
   "cell_type": "code",
   "execution_count": 39,
   "metadata": {},
   "outputs": [
    {
     "data": {
      "text/latex": [
       "$\\displaystyle - H_{x} \\alpha \\sin{\\left(\\phi{\\left(t \\right)} \\right)} - H_{x} \\cos{\\left(\\phi{\\left(t \\right)} \\right)} \\cos{\\left(\\theta{\\left(t \\right)} \\right)} + H_{y} \\alpha \\cos{\\left(\\phi{\\left(t \\right)} \\right)} - H_{y} \\sin{\\left(\\phi{\\left(t \\right)} \\right)} \\cos{\\left(\\theta{\\left(t \\right)} \\right)} + H_{z} \\sin{\\left(\\theta{\\left(t \\right)} \\right)} + \\alpha i m_{p_x} \\cos{\\left(\\phi{\\left(t \\right)} \\right)} \\cos{\\left(\\theta{\\left(t \\right)} \\right)} + \\alpha i m_{p_y} \\sin{\\left(\\phi{\\left(t \\right)} \\right)} \\cos{\\left(\\theta{\\left(t \\right)} \\right)} - \\alpha i m_{p_z} \\sin{\\left(\\theta{\\left(t \\right)} \\right)} - i m_{p_x} \\sin{\\left(\\phi{\\left(t \\right)} \\right)} + i m_{p_y} \\cos{\\left(\\phi{\\left(t \\right)} \\right)}$"
      ],
      "text/plain": [
       "-H_x*alpha*sin(phi(t)) - H_x*cos(phi(t))*cos(theta(t)) + H_y*alpha*cos(phi(t)) - H_y*sin(phi(t))*cos(theta(t)) + H_z*sin(theta(t)) + alpha*i*m_{p_x}*cos(phi(t))*cos(theta(t)) + alpha*i*m_{p_y}*sin(phi(t))*cos(theta(t)) - alpha*i*m_{p_z}*sin(theta(t)) - i*m_{p_x}*sin(phi(t)) + i*m_{p_y}*cos(phi(t))"
      ]
     },
     "execution_count": 39,
     "metadata": {},
     "output_type": "execute_result"
    }
   ],
   "source": [
    "sin_theta_d_phi_by_dt=simplify(sin(theta)*d_phi_by_dt)\n",
    "sin_theta_d_phi_by_dt"
   ]
  },
  {
   "cell_type": "code",
   "execution_count": null,
   "metadata": {},
   "outputs": [],
   "source": []
  }
 ],
 "metadata": {
  "kernelspec": {
   "display_name": "Python 3",
   "language": "python",
   "name": "python3"
  },
  "language_info": {
   "codemirror_mode": {
    "name": "ipython",
    "version": 3
   },
   "file_extension": ".py",
   "mimetype": "text/x-python",
   "name": "python",
   "nbconvert_exporter": "python",
   "pygments_lexer": "ipython3",
   "version": "3.6.7"
  }
 },
 "nbformat": 4,
 "nbformat_minor": 4
}
